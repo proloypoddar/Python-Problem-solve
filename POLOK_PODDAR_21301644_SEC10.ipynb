{
  "nbformat": 4,
  "nbformat_minor": 0,
  "metadata": {
    "colab": {
      "name": "POLOK PODDAR_21301644_SEC10.ipynb",
      "provenance": []
    },
    "kernelspec": {
      "name": "python3",
      "display_name": "Python 3"
    },
    "language_info": {
      "name": "python"
    }
  },
  "cells": [
    {
      "cell_type": "code",
      "metadata": {
        "colab": {
          "base_uri": "https://localhost:8080/"
        },
        "id": "1zMqQDNxkgRt",
        "outputId": "1e7fd20e-1957-4d96-971d-f310858d08d3"
      },
      "source": [
        "given = input(\"Enter multiple numbers are separated by  commas: \")\n",
        "a = given.split(\", \")\n",
        "special = []\n",
        "not_special = []\n",
        "new_dict={}\n",
        "for i in a:\n",
        "    s = 0\n",
        "    sum = 0\n",
        "    for j in range(len(i)): \n",
        "\n",
        "        if j == 0:\n",
        "            s += int(i[j])**2\n",
        "        else:\n",
        "            sum += int(i[j]) \n",
        "    if s == sum:\n",
        "        special.append(i)\n",
        "    else:\n",
        "        not_special.append(i)\n",
        "new_dict[\"Special\"] = tuple(special)\n",
        "new_dict[\"Not Special\"] = tuple(not_special)\n",
        "print(new_dict)"
      ],
      "execution_count": 1,
      "outputs": [
        {
          "output_type": "stream",
          "name": "stdout",
          "text": [
            "Enter multiple numbers are separated by  commas: 3432, 59876, 346, 4538, 7999888\n",
            "{'Special': ('3432', '4538'), 'Not Special': ('59876', '346', '7999888')}\n"
          ]
        }
      ]
    }
  ]
}