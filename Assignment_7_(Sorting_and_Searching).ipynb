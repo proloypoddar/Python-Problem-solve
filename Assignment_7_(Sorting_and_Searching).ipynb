{
  "nbformat": 4,
  "nbformat_minor": 0,
  "metadata": {
    "kernelspec": {
      "display_name": "Python 3",
      "language": "python",
      "name": "python3"
    },
    "language_info": {
      "codemirror_mode": {
        "name": "ipython",
        "version": 3
      },
      "file_extension": ".py",
      "mimetype": "text/x-python",
      "name": "python",
      "nbconvert_exporter": "python",
      "pygments_lexer": "ipython3",
      "version": "3.8.4"
    },
    "colab": {
      "name": "21301644_POLOK PODDAR_SEC-10_of CSE110 Lab Assignment 7 (Sorting and Searching).ipynb",
      "provenance": [],
      "collapsed_sections": []
    }
  },
  "cells": [
    {
      "cell_type": "markdown",
      "metadata": {
        "id": "oMYzsTcnHEll"
      },
      "source": [
        "# CSE110 Lab Assignment 7 on Sorting and Searching\n",
        "\n",
        "Write your name, Student ID and CSE110 section below:\n"
      ]
    },
    {
      "cell_type": "code",
      "metadata": {
        "id": "ljd7OxU2gvWb"
      },
      "source": [
        "#STUDENT NAME:POLOK PODDAR \n",
        "#STUDENT ID:21301644\n",
        "#CSE110 SECTION:10 "
      ],
      "execution_count": null,
      "outputs": []
    },
    {
      "cell_type": "markdown",
      "metadata": {
        "id": "jT-t2zlnHEll"
      },
      "source": [
        "## Write the Python code for the following problems:\n",
        "**<font color='red'>[MUST MAINTAIN VARIABLE NAMING CONVENTIONS FOR ALL THE TASKS]</font>**\n",
        "\n",
        "### Task 1\n",
        "\n",
        "Suppose you have a list named my_list as given below. <br/>\n",
        "my_list = [10,1,20,3,6,2,5,11,15,2,12,14,17,18,29] <br/>\n",
        "Now use bubble sort to sort my_list into ascending order.\n",
        "\n",
        "**Output**<br/>\n",
        "[1, 2, 2, 3, 5, 6, 10, 11, 12, 14, 15, 17, 18, 20, 29]"
      ]
    },
    {
      "cell_type": "code",
      "metadata": {
        "id": "7qXVakLgHElm",
        "colab": {
          "base_uri": "https://localhost:8080/"
        },
        "outputId": "e9e625a2-1a7a-406c-90ea-d20e2941e508"
      },
      "source": [
        "#todo - Bubble sort starts arranging the elements from the top\n",
        "def bubbleSort(a):    \n",
        "  for i in range(len(a)):\n",
        "    for j in range(0, len(a) - i - 1):\n",
        "      if a[j] > a[j + 1]:\n",
        "        temp = a[j]\n",
        "        a[j] = a[j+1]\n",
        "        a[j+1] = temp\n",
        "my_list = [10,1,20,3,6,2,5,11,15,2,12,14,17,18,29]\n",
        "bubbleSort(my_list)\n",
        "print(my_list)"
      ],
      "execution_count": 1,
      "outputs": [
        {
          "output_type": "stream",
          "name": "stdout",
          "text": [
            "[1, 2, 2, 3, 5, 6, 10, 11, 12, 14, 15, 17, 18, 20, 29]\n"
          ]
        }
      ]
    },
    {
      "cell_type": "markdown",
      "metadata": {
        "id": "w1QgeWd2HElp"
      },
      "source": [
        "### Task 2\n",
        "\n",
        "Suppose you have a list named my_list as given below. <br/>\n",
        "my_list = [10,1,20,3,6,2,5,11,15,2,12,14,17,18,29] <br/>\n",
        "Now use selection sort to sort my_list into ascending order.\n",
        "\n",
        "**Output**<br/>\n",
        "[1, 2, 2, 3, 5, 6, 10, 11, 12, 14, 15, 17, 18, 20, 29]\n",
        "\n"
      ]
    },
    {
      "cell_type": "code",
      "metadata": {
        "id": "am0B_8ICHElq",
        "colab": {
          "base_uri": "https://localhost:8080/"
        },
        "outputId": "6d5ae890-4542-41e3-d883-ffaacac09f2e"
      },
      "source": [
        "#todo Selection sort starts arranging the elements from the bottom\n",
        "def bubbleSort(a):    \n",
        "  for i in range(len(a)):\n",
        "    for j in range(0, len(a) - i - 1):\n",
        "      if a[j] > a[j + 1]:\n",
        "        temp = a[j]\n",
        "        a[j] = a[j+1]\n",
        "        a[j+1] = temp\n",
        "my_list = [10,1,20,3,6,2,5,11,15,2,12,14,17,18,29]\n",
        "bubbleSort(my_list)\n",
        "print(my_list)"
      ],
      "execution_count": 14,
      "outputs": [
        {
          "output_type": "stream",
          "name": "stdout",
          "text": [
            "[1, 2, 2, 3, 5, 6, 10, 11, 12, 14, 15, 17, 18, 20, 29]\n"
          ]
        }
      ]
    },
    {
      "cell_type": "markdown",
      "metadata": {
        "id": "j4ffr2CAHElt"
      },
      "source": [
        "### Task  3\n",
        "\n",
        "Suppose you have a list named my_list as given below <br/>\n",
        "my_list=[10,1,20,3,6,2,5,11,15,2,12,14,17,18,29] <br/>\n",
        "Now use any of the two sorting techniques you have used above to sort the list in descending order.\n",
        "\n",
        "**Output**<br/>\n",
        "[29, 20, 18, 17, 15, 14, 12, 11, 10, 6, 5, 3, 2, 2, 1]\n"
      ]
    },
    {
      "cell_type": "code",
      "metadata": {
        "id": "n2X3YR-_HElt",
        "colab": {
          "base_uri": "https://localhost:8080/"
        },
        "outputId": "c822f3ce-1bef-47c2-83ba-f70f162d6b25"
      },
      "source": [
        "def bubbleSort(a):\n",
        "    for i in range(len(a)-1,0,-1):\n",
        "        for u in range(i):\n",
        "            if a[u]<a[u+1]:\n",
        "                temp = a[u]\n",
        "                a[u] = a[u+1]\n",
        "                a[u+1] = temp\n",
        "    return(a)\n",
        "my_list=[10,1,20,3,6,2,5,11,15,2,12,14,17,18,29]   \n",
        "print(bubbleSort(my_list))"
      ],
      "execution_count": 13,
      "outputs": [
        {
          "output_type": "stream",
          "name": "stdout",
          "text": [
            "[29, 20, 18, 17, 15, 14, 12, 11, 10, 6, 5, 3, 2, 2, 1]\n"
          ]
        }
      ]
    },
    {
      "cell_type": "markdown",
      "metadata": {
        "id": "9iYiiTWWHElw"
      },
      "source": [
        "### Task 4\n",
        "\n",
        "Suppose you have a sitting arrangement of the students who will give the final exam in a list. The list contains the last two digits of their student ID as given below.<br/>\n",
        "\n",
        "sitting_list = [10,30,20,70,11,15,22,16,58,100,12,56,70,80] <br/>\n",
        "\n",
        "Now you want to organize the sitting arrangement of the students in your own way. You decide to sort all the students in the even indices of the list in ascending order and all the students in the odd indices of the list in descending order.  <br/>\n",
        "\n",
        "So, write a python program that organizes the list for you in this way.<br/>\n",
        "\n",
        "\n",
        "**Sample Output**<br/>\n",
        "[10, 100, 11, 80, 12, 70, 20, 56, 22, 30, 58, 16, 70, 15]"
      ]
    },
    {
      "cell_type": "code",
      "metadata": {
        "id": "nPdUAKDJHElw",
        "colab": {
          "base_uri": "https://localhost:8080/"
        },
        "outputId": "95c06779-2dcb-4a26-d261-d68d0ca68715"
      },
      "source": [
        "def proloy(sitting_list):\n",
        "    even=[]\n",
        "    odd=[]\n",
        "    for i in range(len(sitting_list)):\n",
        "        if (i%2)==0:\n",
        "            even.append(sitting_list[i])\n",
        "        else:\n",
        "            odd.append(sitting_list[i])\n",
        "    even=sorted(even)\n",
        "    odd=sorted(odd)\n",
        "    odd=odd[::-1]\n",
        "    i=0\n",
        "    for j in range(len(odd)):\n",
        "        sitting_list[i]=even[j]\n",
        "        i=i+2\n",
        "    a=1\n",
        "    for k in range(len(odd)):\n",
        "        sitting_list[a]=odd[k]\n",
        "        a=a+2\n",
        "sitting_list = [10,30,20,70,11,15,22,16,58,100,12,56,70,80]\n",
        "proloy(sitting_list)\n",
        "a=[]\n",
        "for k in (sitting_list):\n",
        "    k=int(k)\n",
        "    a.append(k)\n",
        "print(a)"
      ],
      "execution_count": 12,
      "outputs": [
        {
          "output_type": "stream",
          "name": "stdout",
          "text": [
            "[10, 100, 11, 80, 12, 70, 20, 56, 22, 30, 58, 16, 70, 15]\n"
          ]
        }
      ]
    },
    {
      "cell_type": "markdown",
      "metadata": {
        "id": "oVR1Tsa0HElz"
      },
      "source": [
        "### Task 5\n",
        "\n",
        "Suppose a list contains marks earned in the courses CSE110, PHY111, and MAT110 of each student consecutively in a nested list form. Your task is to take a course name as input from the user and sort the list based on the marks obtained in that course in order to finally print the names of the students in descending order of marks obtained i.e. from the student who earned the highest marks to the student who earned the lowest. <br/>\n",
        "\n",
        "For example, the list may look like <br/>\n",
        "lst = [ [\"Alan\", 95, 87, 91], [\"Turing\", 92, 90, 83], [\"Elon\", 87, 92, 80], [\"Musk\", 85, 94, 90] ] <br/>\n",
        "where for each nested list, 1st index holds the name of the student, 2nd index is total marks earned in the CSE110 course, 3rd index is PHY111 marks and 4th index is MAT110 marks. \n",
        "\n",
        "=====================================================\n",
        "\n",
        "**Hint:**<br/>\n",
        "You may create a function for sorting, then call it every time when needed instead of rewriting the code.\n",
        "\n",
        "You may get the data in the individual lists from the given nested list.\n",
        "\n",
        "=====================================================\n",
        "\n",
        "**Sample Input 1**<br/>\n",
        "MAT110\n",
        "\n",
        "**Sample Output 1**<br/>\n",
        "Alan <br/>\n",
        "Musk <br/>\n",
        "Turing <br/>\n",
        "Elon\n",
        "\n",
        "**Explanation:**<br/>\n",
        "Here the user gives us \"MAT110\" as the course name. Now, the students Alan, Turing, Elon and Musk earned 91, 83, 80 and 90 marks respectively in this course. If we sort it, Alan got the highest marks of 91 followed by Musk with 90 marks and Turing with 83 marks. Among these 4 students, Elon obtained the lowest marks in the MAT110 course with 80 marks. All of these has been illustrated in our sample output.\n",
        "\n",
        "=====================================================\n",
        "\n",
        "**Sample Input 2**<br/>\n",
        "PHY111\n",
        "\n",
        "**Sample Output 2**<br/>\n",
        "Musk <br/>\n",
        "Elon <br/>\n",
        "Turing <br/>\n",
        "Alan"
      ]
    },
    {
      "cell_type": "code",
      "metadata": {
        "id": "539b2P1NHElz",
        "colab": {
          "base_uri": "https://localhost:8080/"
        },
        "outputId": "c1691543-e924-46b5-aeaa-fcf4ca929e49"
      },
      "source": [
        "lst=[[\"Alan\", 95, 87, 91], [\"Turing\", 92, 90, 83], [\"Elon\", 87, 92, 80], [\"Musk\", 85, 94, 90]]\n",
        "b=input(\"Enter course: \")\n",
        "a=b.upper()\n",
        "if a==\"CSE110\":\n",
        "    x=1\n",
        "elif a==\"PHY111\":\n",
        "    x=2\n",
        "elif a==\"MAT110\" :\n",
        "    x=3\n",
        "for i in range(0,3):  \n",
        "    for j in range(3):  \n",
        "        if(lst[j][x]>lst[j+1][x]):  \n",
        "            b = lst[j]  \n",
        "            lst[j] = lst[j+1]  \n",
        "            lst[j+1] = b\n",
        "c=len(lst)-1\n",
        "while(c>=0):\n",
        "    print(lst[c][0])\n",
        "    c=c-1"
      ],
      "execution_count": 11,
      "outputs": [
        {
          "output_type": "stream",
          "name": "stdout",
          "text": [
            "Enter course: CSE110\n",
            "Alan\n",
            "Turing\n",
            "Elon\n",
            "Musk\n"
          ]
        }
      ]
    },
    {
      "cell_type": "markdown",
      "metadata": {
        "id": "B0Rqbyi4HEl2"
      },
      "source": [
        "### Task 6\n",
        "\n",
        "Suppose you have a list named my_list as given below. Your task is to sort the list in ascending order and print the count of numbers that have changed their positions in the process of sorting. <br/>\n",
        "\n",
        "my_list = [4, 2, 3, 1, 6, 5] <br/>\n",
        "\n",
        "Sorted list would be [1, 2, 3, 4, 5, 6] where 4 numbers (4, 1, 6 and 5) have changed their positions. Therefore our sample output here would be 4. Please check if your code is working correctly by changing the above list and using the knowledge given here to verify whether your code gives correct output for all different lists.\n",
        "\n",
        "\n",
        "**Sample Output for the above list**<br/>\n",
        "4"
      ]
    },
    {
      "cell_type": "code",
      "metadata": {
        "id": "AMc8jAa7HEl2",
        "colab": {
          "base_uri": "https://localhost:8080/"
        },
        "outputId": "7d1fe967-a26b-4512-b172-f72153c246ad"
      },
      "source": [
        "my_list=[4,2,3,1,6,5] #given list\n",
        "list_2=[]\n",
        "for i in my_list:\n",
        "    list_2.append(i)\n",
        "my_list.sort()\n",
        "a=0\n",
        "for ami in range(0,len(my_list)):\n",
        "    if (my_list[ami]!=list_2[ami]):\n",
        "        a=a+1\n",
        "print(a)"
      ],
      "execution_count": 9,
      "outputs": [
        {
          "output_type": "stream",
          "name": "stdout",
          "text": [
            "4\n"
          ]
        }
      ]
    },
    {
      "cell_type": "markdown",
      "metadata": {
        "id": "iIH5n0sJHEl5"
      },
      "source": [
        "### Task 7\n",
        "\n",
        "Write a python program that takes two lists from the user, merges the two lists, sorts the resulting list, and then finds the median of the elements in the two lists.\n",
        "\n",
        "=====================================================\n",
        "\n",
        "\n",
        "**Sample Input 1**<br/>\n",
        "list_one = [1, 2, 1, 4] <br/>\n",
        "list_two = [5, 4, 1]\n",
        "\n",
        "\n",
        "**Sample Output 1**<br/>\n",
        "Sorted list = [1, 1, 1, 2, 4, 4, 5] <br/>\n",
        "Median = 2\n",
        "\n",
        "=====================================================\n",
        "\n",
        "\n",
        "**Sample Input 2**<br/>\n",
        "list_one = [1, 7, 9, 10] <br/>\n",
        "list_two = [2, 7, 6, 5]\n",
        "\n",
        "\n",
        "**Sample Output 2**<br/>\n",
        "Sorted list = [1, 2, 5, 6, 7, 7, 9, 10] <br/>\n",
        "Median = 6.5\n",
        "\n"
      ]
    },
    {
      "cell_type": "code",
      "metadata": {
        "id": "KsFxC7XbHEl6",
        "colab": {
          "base_uri": "https://localhost:8080/"
        },
        "outputId": "c968f849-cf40-4120-8c91-03c60c2968f5"
      },
      "source": [
        "list_one=[]\n",
        "list_two=[]\n",
        "a=int(input(\"List one size:\"))\n",
        "for i in range(a):\n",
        "    p=int(input(\"Number: \"))\n",
        "    list_one.append(p)\n",
        "b=int(input(\"List two size:\"))\n",
        "for j in range(b):\n",
        "    q=int(input(\"Number: \"))\n",
        "    list_two.append(q)\n",
        "final=list_one+list_two\n",
        "final.sort()\n",
        "print(\"Sorted list=\",final)\n",
        "n=len(final)\n",
        "if (n%2==1):\n",
        "    print(\"Median=\",final[n//2])\n",
        "else:\n",
        "    print(\"Median=\",(final[n//2]+final[n//2-1])/2)"
      ],
      "execution_count": 7,
      "outputs": [
        {
          "output_type": "stream",
          "name": "stdout",
          "text": [
            "Sorted list = [1, 2, 5, 6, 7, 7, 9, 10]\n",
            "Median = 6.5\n"
          ]
        }
      ]
    },
    {
      "cell_type": "markdown",
      "metadata": {
        "id": "-XKiwBR1HEl8"
      },
      "source": [
        "### Task 8\n",
        "\n",
        "\n",
        "Write a python program that takes a list from user containing both positive and negative numbers. The program then finds two pairs of values whose summation is closest to zero.\n",
        "\n",
        "=====================================================\n",
        "\n",
        "**Sample Input 1**<br/>\n",
        "list_one = [-10, 15, 2, 4, -4, 7, -8] \n",
        "\n",
        "\n",
        "**Sample Output 1**<br/>\n",
        "Two pairs which have the smallest sum = 4 and -4\n",
        "\n",
        "=====================================================\n",
        "\n",
        "\n",
        "**Sample Input 2**<br/>\n",
        "list_one = [1, -8, 4, -7, -20, 26, 70, -85]\n",
        "\n",
        "\n",
        "**Sample Output 2**<br/>\n",
        "Two pairs which have the smallest sum = 4 and -7"
      ]
    },
    {
      "cell_type": "code",
      "metadata": {
        "id": "5ORSGa5GHEl9",
        "colab": {
          "base_uri": "https://localhost:8080/"
        },
        "outputId": "d73d15bb-77af-470d-e4f6-153885332215"
      },
      "source": [
        "def proloy(list,size):  \n",
        "    count = 0  \n",
        "    if size < 2:  \n",
        "        print(\"Invalid Input\")  \n",
        "        return  \n",
        "    a = 0  \n",
        "    b = 1  \n",
        "    c = list[0] + list[1] \n",
        "    for l in range (0, size - 1):  \n",
        "        for r in range (l + 1, size):  \n",
        "\n",
        "            d = list[l] + list[r]         \n",
        "            if abs(c) > abs(d):     \n",
        "                c = d \n",
        "                a = l  \n",
        "                b = r  \n",
        "    print(\"Two pairs which have the smallest sum =\",\n",
        "            list[a], \"and \", list[b])  \n",
        "y = []  \n",
        "n = int(input(\"Enter the size of list : \"))  \n",
        "print(\"Please enter the numbers in the list :\")\n",
        "for i in range(0, n): \n",
        "    x = int(input()) \n",
        "    y.append(x) \n",
        "print(\"list_one = \", y) \n",
        "proloy(y, n); "
      ],
      "execution_count": 8,
      "outputs": [
        {
          "output_type": "stream",
          "name": "stdout",
          "text": [
            "Enter the size of list : 7\n",
            "Please enter the numbers in the list :\n",
            "-10\n",
            "15\n",
            "2\n",
            "4\n",
            "-4\n",
            "7\n",
            "-8\n",
            "list_one =  [-10, 15, 2, 4, -4, 7, -8]\n",
            "Two pairs which have the smallest sum = 4 and  -4\n"
          ]
        }
      ]
    }
  ]
}