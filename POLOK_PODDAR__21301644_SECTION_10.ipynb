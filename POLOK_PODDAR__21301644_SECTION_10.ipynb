{
  "nbformat": 4,
  "nbformat_minor": 0,
  "metadata": {
    "colab": {
      "name": "POLOK PODDAR _21301644_SECTION 10.ipynb",
      "provenance": []
    },
    "kernelspec": {
      "name": "python3",
      "display_name": "Python 3"
    },
    "language_info": {
      "name": "python"
    }
  },
  "cells": [
    {
      "cell_type": "code",
      "metadata": {
        "id": "3QViihf6nRfs"
      },
      "source": [
        "p= input(\"Enter your String:\")\n",
        "s=()\n",
        "even=0\n",
        "odd=0\n",
        "for i in p:\n",
        "    if i.isalpha():\n",
        "      i=q\n",
        "        s.append(q)\n",
        "    else:\n",
        "        i=int(i)\n",
        "        if i%2==0:\n",
        "            even=even+i\n",
        "        else:\n",
        "            odd=odd+i\n",
        "print(s+even+odd)\n"
      ],
      "execution_count": null,
      "outputs": []
    }
  ]
}