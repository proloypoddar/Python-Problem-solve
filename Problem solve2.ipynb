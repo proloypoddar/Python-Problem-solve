{
  "nbformat": 4,
  "nbformat_minor": 0,
  "metadata": {
    "colab": {
      "name": "ID-21301644_POLOK PODDAR_SECTION-10.ipynb",
      "provenance": []
    },
    "kernelspec": {
      "name": "python3",
      "display_name": "Python 3"
    },
    "language_info": {
      "name": "python"
    }
  },
  "cells": [
    {
      "cell_type": "code",
      "execution_count": null,
      "metadata": {
        "id": "nRuroZ5bvulW"
      },
      "outputs": [],
      "source": [
        "l=[]\n",
        "m=int(input(\"Enter number of element:\"))\n",
        "for i in range(0,m):\n",
        "    element=int(input())\n",
        "    l.append(element)\n",
        "\n",
        "\n",
        "def findMinMax(list_1):\n",
        "    truple_1=tuple(list_1)\n",
        "    print(truple_1)\n",
        "    x=max(truple_1)\n",
        "    n=min(truple_1)\n",
        "    tuple_2=(x,n)\n",
        "    tuple_2=[]\n",
        "    return tuple_2\n",
        "\n",
        "f=findMinMax(l)\n",
        "\n",
        "x,y=f\n",
        "\n",
        "print('Maximum:',x)\n",
        "print('Minimum:',y)"
      ]
    }
  ]
}