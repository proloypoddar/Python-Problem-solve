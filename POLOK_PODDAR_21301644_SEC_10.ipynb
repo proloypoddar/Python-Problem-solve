{
  "nbformat": 4,
  "nbformat_minor": 0,
  "metadata": {
    "colab": {
      "name": "POLOK PODDAR_21301644_SEC-10.ipynb",
      "provenance": []
    },
    "kernelspec": {
      "name": "python3",
      "display_name": "Python 3"
    },
    "language_info": {
      "name": "python"
    }
  },
  "cells": [
    {
      "cell_type": "code",
      "metadata": {
        "colab": {
          "base_uri": "https://localhost:8080/"
        },
        "id": "ONW16mEzdGqK",
        "outputId": "3308555a-0bf2-4482-dfa9-5546c6c3fdb3"
      },
      "source": [
        "p=int(input('Number: '))\n",
        "if p%2!=0:\n",
        "  for i in range(1,p+1):\n",
        "        for j in range(1,p+1):\n",
        "            print(i,end= '')\n",
        "        print() \n",
        "else:\n",
        "  print(\"Invalid input\")"
      ],
      "execution_count": 8,
      "outputs": [
        {
          "output_type": "stream",
          "name": "stdout",
          "text": [
            "Number: 3\n",
            "111\n",
            "222\n",
            "333\n"
          ]
        }
      ]
    }
  ]
}